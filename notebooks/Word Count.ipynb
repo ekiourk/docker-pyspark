{
 "cells": [
  {
   "cell_type": "markdown",
   "metadata": {},
   "source": [
    "## Word Count\n",
    "\n",
    "### Word count on text file using PySpark"
   ]
  },
  {
   "cell_type": "code",
   "execution_count": 38,
   "metadata": {
    "collapsed": true
   },
   "outputs": [],
   "source": [
    "import re\n",
    "from operator import add\n",
    "\n",
    "% matplotlib inline\n",
    "import matplotlib.pyplot as plt"
   ]
  },
  {
   "cell_type": "code",
   "execution_count": 39,
   "metadata": {
    "collapsed": true
   },
   "outputs": [],
   "source": [
    "# create function that generates a histogram\n",
    "def histogram(words):\n",
    "    count = map(lambda x: x[1], words)\n",
    "    word = map(lambda x: x[0], words)\n",
    "    plt.barh(range(len(count)), count,color = 'grey')\n",
    "    plt.yticks(range(len(count)), word)"
   ]
  },
  {
   "cell_type": "code",
   "execution_count": 40,
   "metadata": {
    "collapsed": false
   },
   "outputs": [
    {
     "name": "stdout",
     "output_type": "stream",
     "text": [
      "Number of lines in file: 3743\n",
      "Number of characters in file: 157425\n"
     ]
    }
   ],
   "source": [
    "# read input file\n",
    "file_in = sc.textFile('comphorror.txt')\n",
    "print('Number of lines in file: %s' % file_in.count())\n",
    "\n",
    "# add up lenths of each line\n",
    "chars = file_in.map(lambda s: len(s)).reduce(add)\n",
    "print('Number of characters in file: %s' % chars)"
   ]
  },
  {
   "cell_type": "code",
   "execution_count": 41,
   "metadata": {
    "collapsed": false
   },
   "outputs": [
    {
     "data": {
      "text/plain": [
       "u'from'"
      ]
     },
     "execution_count": 41,
     "metadata": {},
     "output_type": "execute_result"
    }
   ],
   "source": [
    "# Get words from the input file\n",
    "words =file_in.flatMap(lambda line: re.split('\\W+', line.lower().strip()))\n",
    "\n",
    "# words of more than 3 characters\n",
    "words = words.filter(lambda x: len(x) > 3)\n",
    "words.first()"
   ]
  },
  {
   "cell_type": "code",
   "execution_count": 42,
   "metadata": {
    "collapsed": false
   },
   "outputs": [
    {
     "data": {
      "text/plain": [
       "(u'from', 1)"
      ]
     },
     "execution_count": 42,
     "metadata": {},
     "output_type": "execute_result"
    }
   ],
   "source": [
    "# set count 1 per word\n",
    "words = words.map(lambda w: (w,1))\n",
    "words.first()"
   ]
  },
  {
   "cell_type": "code",
   "execution_count": 43,
   "metadata": {
    "collapsed": false
   },
   "outputs": [
    {
     "data": {
      "text/plain": [
       "(u'magnetic', 5)"
      ]
     },
     "execution_count": 43,
     "metadata": {},
     "output_type": "execute_result"
    }
   ],
   "source": [
    "# reduce phase - sum count all the words\n",
    "words_count = words.reduceByKey(add)\n",
    "words_count.first()"
   ]
  },
  {
   "cell_type": "code",
   "execution_count": 44,
   "metadata": {
    "collapsed": false
   },
   "outputs": [
    {
     "data": {
      "text/plain": [
       "[(350, u'that'),\n",
       " (197, u'from'),\n",
       " (173, u'with'),\n",
       " (160, u'this'),\n",
       " (154, u'they'),\n",
       " (151, u'computer'),\n",
       " (125, u'were'),\n",
       " (122, u'when'),\n",
       " (107, u'date'),\n",
       " (107, u'subject'),\n",
       " (106, u'would'),\n",
       " (86, u'some'),\n",
       " (84, u'disk'),\n",
       " (83, u'there'),\n",
       " (83, u'system'),\n",
       " (82, u'machine'),\n",
       " (77, u'about'),\n",
       " (75, u'time'),\n",
       " (63, u'which'),\n",
       " (61, u'just')]"
      ]
     },
     "execution_count": 44,
     "metadata": {},
     "output_type": "execute_result"
    }
   ],
   "source": [
    "# create tuple (count, word) and sort in descending\n",
    "words_count = words_count.map(lambda x: (x[1], x[0])).sortByKey(False)\n",
    "\n",
    "# take top 20 words by frequency\n",
    "words_count.take(20)"
   ]
  },
  {
   "cell_type": "code",
   "execution_count": 45,
   "metadata": {
    "collapsed": false
   },
   "outputs": [
    {
     "data": {
      "text/plain": [
       "[(u'that', 350),\n",
       " (u'from', 197),\n",
       " (u'with', 173),\n",
       " (u'this', 160),\n",
       " (u'they', 154),\n",
       " (u'computer', 151),\n",
       " (u'were', 125),\n",
       " (u'when', 122),\n",
       " (u'date', 107),\n",
       " (u'subject', 107),\n",
       " (u'would', 106),\n",
       " (u'some', 86),\n",
       " (u'disk', 84),\n",
       " (u'there', 83),\n",
       " (u'system', 83),\n",
       " (u'machine', 82),\n",
       " (u'about', 77),\n",
       " (u'time', 75),\n",
       " (u'which', 63),\n",
       " (u'just', 61)]"
      ]
     },
     "execution_count": 45,
     "metadata": {},
     "output_type": "execute_result"
    }
   ],
   "source": [
    "# Change order of tuple (word, count) from (count, word) \n",
    "words_count = words_count.map(lambda x:(x[1], x[0]))\n",
    "words_count.take(20)"
   ]
  },
  {
   "cell_type": "code",
   "execution_count": 46,
   "metadata": {
    "collapsed": false
   },
   "outputs": [
    {
     "data": {
      "image/png": "[encoded data removed]",
      "text/plain": [
       "<matplotlib.figure.Figure at 0x7f1c9c66ea50>"
      ]
     },
     "metadata": {},
     "output_type": "display_data"
    }
   ],
   "source": [
    "# display histogram\n",
    "histogram(words_count.take(25))"
   ]
  },
  {
   "cell_type": "code",
   "execution_count": 47,
   "metadata": {
    "collapsed": false
   },
   "outputs": [
    {
     "data": {
      "text/plain": [
       "[(350, u'that'),\n",
       " (197, u'from'),\n",
       " (173, u'with'),\n",
       " (160, u'this'),\n",
       " (154, u'they'),\n",
       " (151, u'computer'),\n",
       " (125, u'were'),\n",
       " (122, u'when'),\n",
       " (107, u'date'),\n",
       " (107, u'subject'),\n",
       " (106, u'would'),\n",
       " (86, u'some'),\n",
       " (84, u'disk'),\n",
       " (83, u'there'),\n",
       " (83, u'system'),\n",
       " (82, u'machine'),\n",
       " (77, u'about'),\n",
       " (75, u'time'),\n",
       " (63, u'which'),\n",
       " (61, u'just')]"
      ]
     },
     "execution_count": 47,
     "metadata": {},
     "output_type": "execute_result"
    }
   ],
   "source": [
    "# words in one summarised statement\n",
    "words_count = sc.textFile('comphorror.txt') \\\n",
    "        .flatMap(lambda line: re.split('\\W+', line.lower().strip())) \\\n",
    "        .filter(lambda x: len(x) > 3) \\\n",
    "        .map(lambda w: (w,1)) \\\n",
    "        .reduceByKey(add) \\\n",
    "        .map(lambda x: (x[1], x[0])).sortByKey(False)\n",
    "words_count.take(20)"
   ]
  },
  {
   "cell_type": "code",
   "execution_count": null,
   "metadata": {
    "collapsed": true
   },
   "outputs": [],
   "source": []
  }
 ],
 "metadata": {
  "kernelspec": {
   "display_name": "Python 2",
   "language": "python",
   "name": "python2"
  },
  "language_info": {
   "codemirror_mode": {
    "name": "ipython",
    "version": 2
   },
   "file_extension": ".py",
   "mimetype": "text/x-python",
   "name": "python",
   "nbconvert_exporter": "python",
   "pygments_lexer": "ipython2",
   "version": "2.7.11"
  }
 },
 "nbformat": 4,
 "nbformat_minor": 0
}
